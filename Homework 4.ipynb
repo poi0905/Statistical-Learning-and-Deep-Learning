{
 "cells": [
  {
   "cell_type": "markdown",
   "metadata": {},
   "source": [
    "## Load the data"
   ]
  },
  {
   "cell_type": "code",
   "execution_count": 1,
   "metadata": {},
   "outputs": [
    {
     "name": "stdout",
     "output_type": "stream",
     "text": [
      "nvalid =  46371\n",
      "nsubtrain =  417344\n",
      "X_train shape =  (463715, 90)\n",
      "X_subtrain shape =  (417344, 90)\n",
      "X_valid shape =  (46371, 90)\n",
      "X_test shape =  (51630, 90)\n",
      "Y_train shape =  (463715,)\n",
      "Y_subtrain shape =  (417344,)\n",
      "Y_valid shape =  (46371,)\n",
      "Y_test shape =  (51630,)\n"
     ]
    }
   ],
   "source": [
    "# load packages\n",
    "%matplotlib inline\n",
    "import pickle\n",
    "import matplotlib.pyplot as plt\n",
    "from sklearn import preprocessing\n",
    "\n",
    "# Load data\n",
    "with open('data/msd_full.pickle', 'rb') as fh1:\n",
    "    msd_data = pickle.load(fh1)\n",
    "\n",
    "doscaling = 1\n",
    "if (doscaling == 1):\n",
    "    xscaler = preprocessing.StandardScaler().fit(msd_data['X_train'])\n",
    "    # standardize feature values\n",
    "    X_train = xscaler.transform(msd_data['X_train'])\n",
    "    X_test = xscaler.transform(msd_data['X_test'])\n",
    "else:\n",
    "    X_train = msd_data['X_train']\n",
    "    X_test = msd_data['X_test']\n",
    "\n",
    "Y_train = msd_data['Y_train']\n",
    "Y_test = msd_data['Y_test'].astype('float32')\n",
    "X_test = X_test.astype('float32')\n",
    "X_train = X_train.astype('float32')\n",
    "Y_train = Y_train.astype('float32')\n",
    "\n",
    "y_mean = Y_train.mean()\n",
    "Y_train_keep = Y_train.copy()\n",
    "Y_test_keep = Y_test.copy()\n",
    "Y_train = Y_train - y_mean\n",
    "Y_test = Y_test - y_mean\n",
    "\n",
    "\n",
    "# validation is the last 10% of training, subtraining is the first 90% of training\n",
    "nvalid = int(X_train.shape[0] * 0.1)\n",
    "nsubtrain = X_train.shape[0] - nvalid\n",
    "\n",
    "X_subtrain = X_train[0:nsubtrain, :].astype('float32')\n",
    "X_valid = X_train[nsubtrain:, :].astype('float32')\n",
    "Y_subtrain = Y_train[0:nsubtrain].astype('float32')\n",
    "Y_valid = Y_train[nsubtrain:].astype('float32')\n",
    "\n",
    "Y_subtrain_keep = Y_train_keep[0:nsubtrain].astype('float32')\n",
    "Y_valid_keep = Y_train_keep[nsubtrain:].astype('float32')\n",
    "\n",
    "print(\"nvalid = \", nvalid)\n",
    "print(\"nsubtrain = \", nsubtrain)\n",
    "print(\"X_train shape = \", X_train.shape)\n",
    "print(\"X_subtrain shape = \", X_subtrain.shape)\n",
    "print(\"X_valid shape = \", X_valid.shape)\n",
    "print(\"X_test shape = \", X_test.shape)\n",
    "print(\"Y_train shape = \", Y_train.shape)\n",
    "print(\"Y_subtrain shape = \", Y_subtrain.shape)\n",
    "print(\"Y_valid shape = \", Y_valid.shape)\n",
    "print(\"Y_test shape = \", Y_test.shape)"
   ]
  },
  {
   "cell_type": "markdown",
   "metadata": {},
   "source": [
    "## Q1"
   ]
  },
  {
   "cell_type": "code",
   "execution_count": 2,
   "metadata": {},
   "outputs": [
    {
     "name": "stdout",
     "output_type": "stream",
     "text": [
      "rmse: 9.510161\n",
      "first five coefficients: [ 5.3097544  -2.8808796  -1.532341    0.05737364 -0.33952868]\n",
      "intercept: 0.00010863347\n"
     ]
    }
   ],
   "source": [
    "import numpy as np\n",
    "from sklearn.linear_model import LinearRegression\n",
    "from sklearn.metrics import mean_squared_error\n",
    "\n",
    "\n",
    "reg = LinearRegression().fit(X_train, Y_train)\n",
    "Y_pred = reg.predict(X_test)\n",
    "rmse = mean_squared_error(Y_test, Y_pred, squared=False)\n",
    "\n",
    "print(\"rmse:\", rmse)\n",
    "print(\"first five coefficients:\", reg.coef_[:5])\n",
    "print(\"intercept:\", reg.intercept_)"
   ]
  },
  {
   "cell_type": "markdown",
   "metadata": {},
   "source": [
    "## Q2 MLP with Four Hidden Layers\n",
    "建構一個有四層Hidden Layer的MLP。此模型由輸入層開始，90個Input Features通過線性層轉換為H個Hidden Nodes，並通過ReLu Activation Function，此為第一層Hidden Layer。\n",
    "接著通過下一個線性層與ReLu Activation Function，此為第二層。接著下一個線性層與ReLu Activation Function，此為第三層。\n",
    "然後下一個線性層與ReLu Activation Function，此為第四層。最後通過一個線性層輸出。\n",
    "所有Hidden Layer的寬度都為H。\n",
    "\n",
    "令H= 45, 使用Stochastic Gradient Descent更新參數，設Learning Rate = 0.00001，無Weight Decay與Momentum。畫出模型訓練過程中的Training與Validation RMSE，列出Test RMSE。 並討論訓練過程中Training與Validation RMSE的圖形意義。"
   ]
  },
  {
   "cell_type": "code",
   "execution_count": 3,
   "metadata": {},
   "outputs": [],
   "source": [
    "import torch\n",
    "from torch.utils import data\n",
    "\n",
    "# 先做出Dataset再擺入dataloader\n",
    "# Characterizes a dataset for PyTorch\n",
    "class Dataset(data.Dataset):\n",
    "    def __init__(self, Xnp, Ynp):\n",
    "    # Initialization, passing Xnp and Ynp\n",
    "        self.nobs = Xnp.shape[0]\n",
    "        self.Xnp = Xnp\n",
    "        self.Ynp = Ynp\n",
    "    def __len__(self):\n",
    "    # Denotes the total number of samples\n",
    "        return self.nobs\n",
    "\n",
    "    def __getitem__(self, index):\n",
    "    # Generates one sample of data\n",
    "        X = self.Xnp[index]\n",
    "        y = self.Ynp[index]\n",
    "        return X, y\n",
    "\n",
    "trainset = Dataset(X_train, Y_train)\n",
    "subtrainset = Dataset(X_subtrain, Y_subtrain)\n",
    "validset = Dataset(X_valid, Y_valid)\n",
    "testset = Dataset(X_test, Y_test)"
   ]
  },
  {
   "cell_type": "markdown",
   "metadata": {},
   "source": [
    "Create Dataloader"
   ]
  },
  {
   "cell_type": "code",
   "execution_count": 4,
   "metadata": {},
   "outputs": [],
   "source": [
    "trainloader = data.DataLoader(trainset, batch_size=1000, shuffle=True, num_workers=0)\n",
    "subtrainloader = data.DataLoader(subtrainset, batch_size=1000, shuffle=True, num_workers=0)\n",
    "validloader = data.DataLoader(validset, batch_size=1000, shuffle=True, num_workers=0)\n",
    "testloader = data.DataLoader(testset, batch_size=1000, shuffle=True, num_workers=0)"
   ]
  },
  {
   "cell_type": "code",
   "execution_count": 5,
   "metadata": {},
   "outputs": [
    {
     "name": "stdout",
     "output_type": "stream",
     "text": [
      "inputs size: torch.Size([1000, 90])\n",
      "targets size: torch.Size([1000])\n"
     ]
    }
   ],
   "source": [
    "# check\n",
    "X_batch, y_batch = next(iter(trainloader))\n",
    "print(\"inputs size:\", X_batch.size())\n",
    "print(\"targets size:\", y_batch.size())"
   ]
  },
  {
   "cell_type": "code",
   "execution_count": 6,
   "metadata": {},
   "outputs": [
    {
     "name": "stdout",
     "output_type": "stream",
     "text": [
      "Using cuda device\n"
     ]
    }
   ],
   "source": [
    "# Get cpu or gpu device for training.\n",
    "device = \"cuda\" if torch.cuda.is_available() else \"cpu\"\n",
    "print(f\"Using {device} device\")"
   ]
  },
  {
   "cell_type": "markdown",
   "metadata": {},
   "source": [
    "Model architecture"
   ]
  },
  {
   "cell_type": "code",
   "execution_count": 7,
   "metadata": {},
   "outputs": [],
   "source": [
    "class MLP(torch.nn.Module):\n",
    "    def __init__(self, D_in, D_out, H):\n",
    "        super(MLP, self).__init__()\n",
    "        self.main = torch.nn.Sequential(\n",
    "            torch.nn.Linear(D_in, H),\n",
    "            torch.nn.ReLU(),\n",
    "            torch.nn.Linear(H, H),\n",
    "            torch.nn.ReLU(),\n",
    "            torch.nn.Linear(H, H),\n",
    "            torch.nn.ReLU(),\n",
    "            torch.nn.Linear(H, H),\n",
    "            torch.nn.ReLU(),\n",
    "            torch.nn.Linear(H, D_out))\n",
    "\n",
    "    def forward(self, input):\n",
    "        return self.main(input)"
   ]
  },
  {
   "cell_type": "markdown",
   "metadata": {},
   "source": [
    "Train"
   ]
  },
  {
   "cell_type": "code",
   "execution_count": 8,
   "metadata": {},
   "outputs": [],
   "source": [
    "def train(model, device, epochs, optimizer, loss_function, train_loader, valid_loader, prints=1):\n",
    "    # Early stopping\n",
    "    stop_train = 0\n",
    "    \n",
    "    min_valid_loss = np.inf\n",
    "    step_count = 0\n",
    "    best_step_count = 0\n",
    "    train_loss = 0\n",
    "    train_loss_list = []\n",
    "    valid_loss_list = []\n",
    "    batches = []\n",
    "\n",
    "    for epoch in range(1, epochs+1):\n",
    "#         print('running epoch: {}'.format(epoch))\n",
    "        model.train()\n",
    "\n",
    "        for i, data in enumerate(train_loader, 1):\n",
    "            step_count += 1\n",
    "            inputs = data[0].to(device)\n",
    "            labels = data[1].to(device)\n",
    "\n",
    "            # Zero the gradients\n",
    "            optimizer.zero_grad()\n",
    "\n",
    "            # Forward and backward propagation\n",
    "            outputs = model(inputs.view(inputs.shape[0], -1))\n",
    "            loss = loss_function(outputs, labels.unsqueeze(1))\n",
    "            loss.backward()\n",
    "            optimizer.step()\n",
    "            train_loss += loss.item()\n",
    "\n",
    "            if step_count % 100 == 0:\n",
    "                valid_loss = validation(model, device, valid_loader, loss_function)\n",
    "                batches.append(step_count)\n",
    "                valid_loss_list.append(valid_loss)\n",
    "                train_loss_list.append((train_loss/step_count)**0.5)\n",
    "                if valid_loss < min_valid_loss:\n",
    "                    min_valid_loss = valid_loss\n",
    "                    best_step_count = step_count\n",
    "                if step_count == best_step_count + 5000:\n",
    "                    stop_train = 1\n",
    "                if step_count % 1000 == 0 and prints == 1:\n",
    "                    print('Batch: %d Training Loss: %.4f Validation Loss: %.4f' % (step_count, (train_loss/step_count)**0.5, valid_loss))\n",
    "                    print('Current best validation RMSE: %.4f @ %d' % (min_valid_loss, best_step_count))\n",
    "                \n",
    "        if stop_train == 1:\n",
    "            break\n",
    "    if prints == 1:\n",
    "        print('==================== Training Finished ====================')\n",
    "\n",
    "    return model, train_loss_list, valid_loss_list, batches"
   ]
  },
  {
   "cell_type": "markdown",
   "metadata": {},
   "source": [
    "Validation"
   ]
  },
  {
   "cell_type": "code",
   "execution_count": 9,
   "metadata": {},
   "outputs": [],
   "source": [
    "def validation(model, device, valid_loader, loss_function):\n",
    "    # Settings\n",
    "    model.eval()\n",
    "    loss_total = 0\n",
    "\n",
    "    # Test validation data\n",
    "    with torch.no_grad():\n",
    "        for data in valid_loader:\n",
    "            inputs = data[0].to(device)\n",
    "            labels = data[1].to(device)\n",
    "\n",
    "            outputs = model(inputs.view(inputs.shape[0], -1))\n",
    "            loss = loss_function(outputs, labels.unsqueeze(1))\n",
    "            loss_total += loss.item()\n",
    "\n",
    "    return (loss_total / len(valid_loader))**0.5"
   ]
  },
  {
   "cell_type": "markdown",
   "metadata": {},
   "source": [
    "Test"
   ]
  },
  {
   "cell_type": "code",
   "execution_count": 10,
   "metadata": {},
   "outputs": [],
   "source": [
    "def test(model, device, test_loader, loss_function):\n",
    "    # Settings\n",
    "    model.eval()\n",
    "    loss_total = 0\n",
    "\n",
    "    # Test validation data\n",
    "    with torch.no_grad():\n",
    "        for data in test_loader:\n",
    "            inputs = data[0].to(device)\n",
    "            labels = data[1].to(device)\n",
    "\n",
    "            outputs = model(inputs.view(inputs.shape[0], -1))\n",
    "            loss = loss_function(outputs, labels.unsqueeze(1))\n",
    "            loss_total += loss.item()\n",
    "    \n",
    "    test_loss = (loss_total / len(test_loader))**0.5\n",
    "    \n",
    "    print('Test Loss: %.4f' % test_loss)\n",
    "    \n",
    "    return test_loss"
   ]
  },
  {
   "cell_type": "markdown",
   "metadata": {},
   "source": [
    "Setting up and run"
   ]
  },
  {
   "cell_type": "code",
   "execution_count": 47,
   "metadata": {},
   "outputs": [
    {
     "name": "stdout",
     "output_type": "stream",
     "text": [
      "Batch: 1000 Training Loss: 10.9379 Validation Loss: 10.9376\n",
      "Current best validation RMSE: 10.9108 @ 600\n",
      "Batch: 2000 Training Loss: 10.9412 Validation Loss: 10.9195\n",
      "Current best validation RMSE: 10.9108 @ 600\n",
      "Batch: 3000 Training Loss: 10.9402 Validation Loss: 10.9220\n",
      "Current best validation RMSE: 10.9057 @ 2600\n",
      "Batch: 4000 Training Loss: 10.9423 Validation Loss: 10.9199\n",
      "Current best validation RMSE: 10.9057 @ 2600\n",
      "Batch: 5000 Training Loss: 10.9420 Validation Loss: 10.9180\n",
      "Current best validation RMSE: 10.9057 @ 2600\n",
      "Batch: 6000 Training Loss: 10.9429 Validation Loss: 10.9154\n",
      "Current best validation RMSE: 10.9057 @ 2600\n",
      "Batch: 7000 Training Loss: 10.9417 Validation Loss: 10.9284\n",
      "Current best validation RMSE: 10.9050 @ 6200\n",
      "Batch: 8000 Training Loss: 10.9423 Validation Loss: 10.9200\n",
      "Current best validation RMSE: 10.9050 @ 6200\n",
      "Batch: 9000 Training Loss: 10.9424 Validation Loss: 10.9171\n",
      "Current best validation RMSE: 10.9050 @ 6200\n",
      "Batch: 10000 Training Loss: 10.9423 Validation Loss: 10.9416\n",
      "Current best validation RMSE: 10.9050 @ 6200\n",
      "Batch: 11000 Training Loss: 10.9428 Validation Loss: 10.9137\n",
      "Current best validation RMSE: 10.9050 @ 6200\n",
      "==================== Training Finished ====================\n",
      "Test Loss: 10.8518\n"
     ]
    },
    {
     "data": {
      "text/plain": [
       "10.851792583570978"
      ]
     },
     "execution_count": 47,
     "metadata": {},
     "output_type": "execute_result"
    }
   ],
   "source": [
    "D_in = trainset.Xnp.shape[1]  # 90\n",
    "D_out = 1\n",
    "H = 45\n",
    "epochs = 100\n",
    "\n",
    "model = MLP(D_in, D_out, H).to(device)\n",
    "model = model.float()\n",
    "optimizer = torch.optim.SGD(model.parameters(), lr=1e-5)\n",
    "loss_function = torch.nn.MSELoss()\n",
    "\n",
    "# Train\n",
    "model = train(model, device, epochs, optimizer, loss_function, subtrainloader, validloader)\n",
    "# Test\n",
    "test(model[0], device, testloader, loss_function)"
   ]
  },
  {
   "cell_type": "code",
   "execution_count": 52,
   "metadata": {
    "scrolled": true
   },
   "outputs": [
    {
     "data": {
      "image/png": "[encoded data removed]",
      "text/plain": [
       "<Figure size 432x288 with 1 Axes>"
      ]
     },
     "metadata": {
      "needs_background": "light"
     },
     "output_type": "display_data"
    }
   ],
   "source": [
    "plt.plot(model[3], model[1])\n",
    "plt.plot(model[3], model[2])\n",
    "\n",
    "plt.title('LOSS')\n",
    "plt.xlabel('Batch')\n",
    "plt.ylabel('RMSE')\n",
    "plt.legend(['Train', 'Valid'])\n",
    "plt.show()"
   ]
  },
  {
   "cell_type": "markdown",
   "metadata": {},
   "source": [
    "### Q2 Conclusion\n",
    "觀察圖形可以發現在Batch較小時Train loss較低，而當Batch到達到2000時，Train loss達到穩定狀態。\n",
    "另外，也可看出Valid loss在一定範圍內震盪。"
   ]
  },
  {
   "cell_type": "markdown",
   "metadata": {},
   "source": [
    "## Q3\n",
    "重複上題步驟，使用H = 90與180。無須畫訓練過程的RMSE。列出這兩個Test RMSE。討論H = 45, 90, 180的Test RMSE。"
   ]
  },
  {
   "cell_type": "markdown",
   "metadata": {},
   "source": [
    "H: 90"
   ]
  },
  {
   "cell_type": "code",
   "execution_count": 13,
   "metadata": {},
   "outputs": [
    {
     "name": "stdout",
     "output_type": "stream",
     "text": [
      "Test Loss: 10.8531\n"
     ]
    },
    {
     "data": {
      "text/plain": [
       "10.853060507674094"
      ]
     },
     "execution_count": 13,
     "metadata": {},
     "output_type": "execute_result"
    }
   ],
   "source": [
    "H = 90\n",
    "\n",
    "model = MLP(D_in, D_out, H).to(device)\n",
    "model = model.float()\n",
    "optimizer = torch.optim.SGD(model.parameters(), lr=1e-5)\n",
    "loss_function = torch.nn.MSELoss()\n",
    "\n",
    "# Train\n",
    "model = train(model, device, epochs, optimizer, loss_function, subtrainloader, validloader, 0)\n",
    "# Test\n",
    "test(model[0], device, testloader, loss_function)"
   ]
  },
  {
   "cell_type": "markdown",
   "metadata": {},
   "source": [
    "H: 180"
   ]
  },
  {
   "cell_type": "code",
   "execution_count": 14,
   "metadata": {},
   "outputs": [
    {
     "name": "stdout",
     "output_type": "stream",
     "text": [
      "Test Loss: 10.8501\n"
     ]
    },
    {
     "data": {
      "text/plain": [
       "10.850131146903733"
      ]
     },
     "execution_count": 14,
     "metadata": {},
     "output_type": "execute_result"
    }
   ],
   "source": [
    "H = 180\n",
    "\n",
    "model = MLP(D_in, D_out, H).to(device)\n",
    "model = model.float()\n",
    "optimizer = torch.optim.SGD(model.parameters(), lr=1e-5)\n",
    "loss_function = torch.nn.MSELoss()\n",
    "\n",
    "# Train\n",
    "model = train(model, device, epochs, optimizer, loss_function, subtrainloader, validloader, 0)\n",
    "# Test\n",
    "test(model[0], device, testloader, loss_function)"
   ]
  },
  {
   "cell_type": "markdown",
   "metadata": {},
   "source": [
    "### Q3 Conclusion\n",
    "RMSE從大排到小依據是 90 > 45 > 180，因此可知不一定hidden layer越多的話，表現會越好。"
   ]
  },
  {
   "cell_type": "markdown",
   "metadata": {},
   "source": [
    "## Q4\n",
    "使用Q2的模型設定，考慮 H = 45, 90, 180與Weight Decay = 0.1, 0.2, 0.4的所有組合。模型估計後做表整理Test RMSE。討論H的選擇應為多少較合理?"
   ]
  },
  {
   "cell_type": "markdown",
   "metadata": {},
   "source": [
    "H = 45, weight decay = 0.1"
   ]
  },
  {
   "cell_type": "code",
   "execution_count": 15,
   "metadata": {},
   "outputs": [
    {
     "name": "stdout",
     "output_type": "stream",
     "text": [
      "Test Loss: 10.8610\n"
     ]
    }
   ],
   "source": [
    "H = 45\n",
    "\n",
    "model = MLP(D_in, D_out, H).to(device)\n",
    "model = model.float()\n",
    "optimizer = torch.optim.SGD(model.parameters(), lr=1e-5, momentum=0.1)\n",
    "loss_function = torch.nn.MSELoss()\n",
    "\n",
    "# Train\n",
    "model = train(model, device, epochs, optimizer, loss_function, subtrainloader, validloader, 0)\n",
    "# Test\n",
    "test_45_1 = test(model[0], device, testloader, loss_function)"
   ]
  },
  {
   "cell_type": "markdown",
   "metadata": {},
   "source": [
    "H = 45, weight decay = 0.2"
   ]
  },
  {
   "cell_type": "code",
   "execution_count": 16,
   "metadata": {},
   "outputs": [
    {
     "name": "stdout",
     "output_type": "stream",
     "text": [
      "Test Loss: 10.8557\n"
     ]
    }
   ],
   "source": [
    "H = 45\n",
    "\n",
    "model = MLP(D_in, D_out, H).to(device)\n",
    "model = model.float()\n",
    "optimizer = torch.optim.SGD(model.parameters(), lr=1e-5, momentum=0.2)\n",
    "loss_function = torch.nn.MSELoss()\n",
    "\n",
    "# Train\n",
    "model = train(model, device, epochs, optimizer, loss_function, subtrainloader, validloader, 0)\n",
    "# Test\n",
    "test_45_2 = test(model[0], device, testloader, loss_function)"
   ]
  },
  {
   "cell_type": "markdown",
   "metadata": {},
   "source": [
    "H = 45, weight decay = 0.4"
   ]
  },
  {
   "cell_type": "code",
   "execution_count": 17,
   "metadata": {},
   "outputs": [
    {
     "name": "stdout",
     "output_type": "stream",
     "text": [
      "Test Loss: 10.8500\n"
     ]
    }
   ],
   "source": [
    "H = 45\n",
    "\n",
    "model = MLP(D_in, D_out, H).to(device)\n",
    "model = model.float()\n",
    "optimizer = torch.optim.SGD(model.parameters(), lr=1e-5, momentum=0.4)\n",
    "loss_function = torch.nn.MSELoss()\n",
    "\n",
    "# Train\n",
    "model = train(model, device, epochs, optimizer, loss_function, subtrainloader, validloader, 0)\n",
    "# Test\n",
    "test_45_4 = test(model[0], device, testloader, loss_function)"
   ]
  },
  {
   "cell_type": "markdown",
   "metadata": {},
   "source": [
    "H = 90, weight decay = 0.1"
   ]
  },
  {
   "cell_type": "code",
   "execution_count": 18,
   "metadata": {},
   "outputs": [
    {
     "name": "stdout",
     "output_type": "stream",
     "text": [
      "Test Loss: 10.8522\n"
     ]
    }
   ],
   "source": [
    "H = 90\n",
    "\n",
    "model = MLP(D_in, D_out, H).to(device)\n",
    "model = model.float()\n",
    "optimizer = torch.optim.SGD(model.parameters(), lr=1e-5, momentum=0.1)\n",
    "loss_function = torch.nn.MSELoss()\n",
    "\n",
    "# Train\n",
    "model = train(model, device, epochs, optimizer, loss_function, subtrainloader, validloader, 0)\n",
    "# Test\n",
    "test_90_1 = test(model[0], device, testloader, loss_function)"
   ]
  },
  {
   "cell_type": "markdown",
   "metadata": {},
   "source": [
    "H = 90, weight decay = 0.2"
   ]
  },
  {
   "cell_type": "code",
   "execution_count": 19,
   "metadata": {},
   "outputs": [
    {
     "name": "stdout",
     "output_type": "stream",
     "text": [
      "Test Loss: 10.8472\n"
     ]
    }
   ],
   "source": [
    "H = 90\n",
    "\n",
    "model = MLP(D_in, D_out, H).to(device)\n",
    "model = model.float()\n",
    "optimizer = torch.optim.SGD(model.parameters(), lr=1e-5, momentum=0.2)\n",
    "loss_function = torch.nn.MSELoss()\n",
    "\n",
    "# Train\n",
    "model = train(model, device, epochs, optimizer, loss_function, subtrainloader, validloader, 0)\n",
    "# Test\n",
    "test_90_2 = test(model[0], device, testloader, loss_function)"
   ]
  },
  {
   "cell_type": "markdown",
   "metadata": {},
   "source": [
    "H = 90, weight decay = 0.4"
   ]
  },
  {
   "cell_type": "code",
   "execution_count": 20,
   "metadata": {},
   "outputs": [
    {
     "name": "stdout",
     "output_type": "stream",
     "text": [
      "Test Loss: 10.8546\n"
     ]
    }
   ],
   "source": [
    "H = 90\n",
    "\n",
    "model = MLP(D_in, D_out, H).to(device)\n",
    "model = model.float()\n",
    "optimizer = torch.optim.SGD(model.parameters(), lr=1e-5, momentum=0.4)\n",
    "loss_function = torch.nn.MSELoss()\n",
    "\n",
    "# Train\n",
    "model = train(model, device, epochs, optimizer, loss_function, subtrainloader, validloader, 0)\n",
    "# Test\n",
    "test_90_4 = test(model[0], device, testloader, loss_function)"
   ]
  },
  {
   "cell_type": "markdown",
   "metadata": {},
   "source": [
    "H = 180, weight decay = 0.1"
   ]
  },
  {
   "cell_type": "code",
   "execution_count": 21,
   "metadata": {},
   "outputs": [
    {
     "name": "stdout",
     "output_type": "stream",
     "text": [
      "Test Loss: 10.8543\n"
     ]
    }
   ],
   "source": [
    "H = 180\n",
    "\n",
    "model = MLP(D_in, D_out, H).to(device)\n",
    "model = model.float()\n",
    "optimizer = torch.optim.SGD(model.parameters(), lr=1e-5, momentum=0.1)\n",
    "loss_function = torch.nn.MSELoss()\n",
    "\n",
    "# Train\n",
    "model = train(model, device, epochs, optimizer, loss_function, subtrainloader, validloader, 0)\n",
    "# Test\n",
    "test_180_1 = test(model[0], device, testloader, loss_function)"
   ]
  },
  {
   "cell_type": "markdown",
   "metadata": {},
   "source": [
    "H = 180, weight decay = 0.2"
   ]
  },
  {
   "cell_type": "code",
   "execution_count": 22,
   "metadata": {},
   "outputs": [
    {
     "name": "stdout",
     "output_type": "stream",
     "text": [
      "Test Loss: 10.8557\n"
     ]
    }
   ],
   "source": [
    "H = 180\n",
    "\n",
    "model = MLP(D_in, D_out, H).to(device)\n",
    "model = model.float()\n",
    "optimizer = torch.optim.SGD(model.parameters(), lr=1e-5, momentum=0.2)\n",
    "loss_function = torch.nn.MSELoss()\n",
    "\n",
    "# Train\n",
    "model = train(model, device, epochs, optimizer, loss_function, subtrainloader, validloader, 0)\n",
    "# Test\n",
    "test_180_2 = test(model[0], device, testloader, loss_function)"
   ]
  },
  {
   "cell_type": "markdown",
   "metadata": {},
   "source": [
    "H = 180, weight decay = 0.4"
   ]
  },
  {
   "cell_type": "code",
   "execution_count": 23,
   "metadata": {},
   "outputs": [
    {
     "name": "stdout",
     "output_type": "stream",
     "text": [
      "Test Loss: 10.8556\n"
     ]
    }
   ],
   "source": [
    "H = 180\n",
    "\n",
    "model = MLP(D_in, D_out, H).to(device)\n",
    "model = model.float()\n",
    "optimizer = torch.optim.SGD(model.parameters(), lr=1e-5, momentum=0.4)\n",
    "loss_function = torch.nn.MSELoss()\n",
    "\n",
    "# Train\n",
    "model = train(model, device, epochs, optimizer, loss_function, subtrainloader, validloader, 0)\n",
    "# Test\n",
    "test_180_4 = test(model[0], device, testloader, loss_function)"
   ]
  },
  {
   "cell_type": "code",
   "execution_count": 24,
   "metadata": {},
   "outputs": [
    {
     "data": {
      "text/html": [
       "<div>\n",
       "<style scoped>\n",
       "    .dataframe tbody tr th:only-of-type {\n",
       "        vertical-align: middle;\n",
       "    }\n",
       "\n",
       "    .dataframe tbody tr th {\n",
       "        vertical-align: top;\n",
       "    }\n",
       "\n",
       "    .dataframe thead th {\n",
       "        text-align: right;\n",
       "    }\n",
       "</style>\n",
       "<table border=\"1\" class=\"dataframe\">\n",
       "  <thead>\n",
       "    <tr style=\"text-align: right;\">\n",
       "      <th></th>\n",
       "      <th>45</th>\n",
       "      <th>90</th>\n",
       "      <th>180</th>\n",
       "    </tr>\n",
       "  </thead>\n",
       "  <tbody>\n",
       "    <tr>\n",
       "      <th>0.1</th>\n",
       "      <td>10.861015</td>\n",
       "      <td>10.852201</td>\n",
       "      <td>10.854303</td>\n",
       "    </tr>\n",
       "    <tr>\n",
       "      <th>0.2</th>\n",
       "      <td>10.855688</td>\n",
       "      <td>10.847180</td>\n",
       "      <td>10.855722</td>\n",
       "    </tr>\n",
       "    <tr>\n",
       "      <th>0.4</th>\n",
       "      <td>10.849968</td>\n",
       "      <td>10.854632</td>\n",
       "      <td>10.855584</td>\n",
       "    </tr>\n",
       "  </tbody>\n",
       "</table>\n",
       "</div>"
      ],
      "text/plain": [
       "            45         90        180\n",
       "0.1  10.861015  10.852201  10.854303\n",
       "0.2  10.855688  10.847180  10.855722\n",
       "0.4  10.849968  10.854632  10.855584"
      ]
     },
     "execution_count": 24,
     "metadata": {},
     "output_type": "execute_result"
    }
   ],
   "source": [
    "import pandas as pd\n",
    "\n",
    "pd.DataFrame({\n",
    "    '45': [test_45_1, test_45_2, test_45_4],\n",
    "    '90': [test_90_1, test_90_2, test_90_4],\n",
    "    '180': [test_180_1, test_180_2, test_180_4]},\n",
    "    index=['0.1', '0.2', '0.4'])"
   ]
  },
  {
   "cell_type": "markdown",
   "metadata": {},
   "source": [
    "### Q4 Conclusion\n",
    "weight decay = 0.1時: 45 > 180 > 90\n",
    "\n",
    "weight decay = 0.2時: 180 > 45 > 90\n",
    "\n",
    "weight decay = 0.4時: 180 > 90 > 45\n",
    "\n",
    "在這當中最低的是weight decay = 0.2, H = 90。且H = 90在兩個weight decay表現下最好，因此我認為假設在有weight decay的情形下， H應該選擇90。"
   ]
  },
  {
   "cell_type": "markdown",
   "metadata": {},
   "source": [
    "## Q5 MLP with Dropout\n",
    "建構一個有Dropout的四層Hidden Layer的MLP。此模型由輸入層開始，第一層由90個Input Features通過線性層轉換為H個Hidden Nodes，通過ReLu Activation Function，之後對Hidden Unit Dropout，機率為0.5。後面各Hidden Lyaer均在ReLu後有Dropout，機率皆為0.5。最後通過一個線性層輸出。所有Hidden Layer的寬度都為H。\n",
    "\n",
    "令H= 90, 使用Adaptive Moment Estimation (Adam)更新參數，設Learning Rate = 0.001，無Weight Decay與Momentum，其他參數使用預設值。畫出模型訓練過程中的Training與Validation RMSE，列出Test RMSE。 並討論訓練過程中Training與Validation RMSE的圖形意義。"
   ]
  },
  {
   "cell_type": "code",
   "execution_count": 25,
   "metadata": {},
   "outputs": [],
   "source": [
    "class MLP_dropout(torch.nn.Module):\n",
    "    def __init__(self, D_in, D_out, H):\n",
    "        super(MLP_dropout, self).__init__()\n",
    "        self.main = torch.nn.Sequential(\n",
    "        torch.nn.Linear(D_in, H), \n",
    "        torch.nn.ReLU(),\n",
    "        torch.nn.Dropout(p=0.5),\n",
    "        torch.nn.Linear(H, H),\n",
    "        torch.nn.ReLU(),\n",
    "        torch.nn.Dropout(p=0.5),\n",
    "        torch.nn.Linear(H, H),\n",
    "        torch.nn.ReLU(),\n",
    "        torch.nn.Dropout(p=0.5),\n",
    "        torch.nn.Linear(H, H),\n",
    "        torch.nn.ReLU(),\n",
    "        torch.nn.Dropout(p=0.5),\n",
    "        torch.nn.Linear(H, D_out))\n",
    "\n",
    "    def forward(self, input):\n",
    "        return self.main(input)"
   ]
  },
  {
   "cell_type": "code",
   "execution_count": 26,
   "metadata": {},
   "outputs": [
    {
     "name": "stdout",
     "output_type": "stream",
     "text": [
      "Batch: 1000 Training Loss: 9.1151 Validation Loss: 8.6460\n",
      "Current best validation RMSE: 8.6460 @ 1000\n",
      "Batch: 2000 Training Loss: 8.8932 Validation Loss: 8.5720\n",
      "Current best validation RMSE: 8.5720 @ 2000\n",
      "Batch: 3000 Training Loss: 8.8112 Validation Loss: 8.6953\n",
      "Current best validation RMSE: 8.5192 @ 2800\n",
      "Batch: 4000 Training Loss: 8.7391 Validation Loss: 8.5001\n",
      "Current best validation RMSE: 8.4975 @ 3200\n",
      "Batch: 5000 Training Loss: 8.6662 Validation Loss: 8.5178\n",
      "Current best validation RMSE: 8.4856 @ 4300\n",
      "Batch: 6000 Training Loss: 8.6418 Validation Loss: 8.4738\n",
      "Current best validation RMSE: 8.4698 @ 5400\n",
      "Batch: 7000 Training Loss: 8.5918 Validation Loss: 8.5079\n",
      "Current best validation RMSE: 8.4698 @ 5400\n",
      "Batch: 8000 Training Loss: 8.5782 Validation Loss: 8.6801\n",
      "Current best validation RMSE: 8.4625 @ 7700\n",
      "Batch: 9000 Training Loss: 8.5424 Validation Loss: 8.4903\n",
      "Current best validation RMSE: 8.4625 @ 7700\n",
      "Batch: 10000 Training Loss: 8.5098 Validation Loss: 8.5076\n",
      "Current best validation RMSE: 8.4625 @ 7700\n",
      "Batch: 11000 Training Loss: 8.4936 Validation Loss: 8.5384\n",
      "Current best validation RMSE: 8.4625 @ 7700\n",
      "Batch: 12000 Training Loss: 8.4684 Validation Loss: 8.5453\n",
      "Current best validation RMSE: 8.4625 @ 7700\n",
      "==================== Training Finished ====================\n",
      "Test Loss: 9.0124\n"
     ]
    },
    {
     "data": {
      "text/plain": [
       "9.012365616814298"
      ]
     },
     "execution_count": 26,
     "metadata": {},
     "output_type": "execute_result"
    }
   ],
   "source": [
    "H = 90\n",
    "\n",
    "model = MLP_dropout(D_in, D_out, H).to(device)\n",
    "model = model.float()\n",
    "optimizer = torch.optim.Adam(model.parameters(), lr=1e-3)\n",
    "loss_function = torch.nn.MSELoss()\n",
    "\n",
    "# Train\n",
    "model = train(model, device, epochs, optimizer, loss_function, subtrainloader, validloader)\n",
    "# Test\n",
    "test(model[0], device, testloader, loss_function)"
   ]
  },
  {
   "cell_type": "code",
   "execution_count": 27,
   "metadata": {},
   "outputs": [
    {
     "data": {
      "image/png": "[encoded data removed]",
      "text/plain": [
       "<Figure size 432x288 with 1 Axes>"
      ]
     },
     "metadata": {
      "needs_background": "light"
     },
     "output_type": "display_data"
    }
   ],
   "source": [
    "plt.plot(model[3], model[1])\n",
    "plt.plot(model[3], model[2])\n",
    "\n",
    "plt.title('LOSS')\n",
    "plt.xlabel('Batch')\n",
    "plt.ylabel('RMSE')\n",
    "plt.legend(['Train', 'Valid'])\n",
    "plt.show()"
   ]
  },
  {
   "cell_type": "markdown",
   "metadata": {},
   "source": [
    "### Q5 Conclusion\n",
    "可以發現在有Dropout的情況下，隨著Batch增加Train的RMSE會越來越低，蠻符合常理的，而Valid也是隨著Batch增加時在略略降低。另外，有Dropout的表現完全比沒有Dropout好，所以此資料集適合搭配Dropout的方法訓練。"
   ]
  },
  {
   "cell_type": "markdown",
   "metadata": {},
   "source": [
    "## Q6 Explore Number of Hidden Units \n",
    "使用上題的模型，考慮H = 20, 180, 360。 討論H = 20, 45, 180, 360的Test RMSE。"
   ]
  },
  {
   "cell_type": "markdown",
   "metadata": {},
   "source": [
    "H = 20"
   ]
  },
  {
   "cell_type": "code",
   "execution_count": 28,
   "metadata": {},
   "outputs": [
    {
     "name": "stdout",
     "output_type": "stream",
     "text": [
      "Test Loss: 8.8414\n"
     ]
    },
    {
     "data": {
      "text/plain": [
       "8.84136374097605"
      ]
     },
     "execution_count": 28,
     "metadata": {},
     "output_type": "execute_result"
    }
   ],
   "source": [
    "H = 20\n",
    "\n",
    "model = MLP_dropout(D_in, D_out, H).to(device)\n",
    "model = model.float()\n",
    "optimizer = torch.optim.Adam(model.parameters(), lr=1e-3)\n",
    "loss_function = torch.nn.MSELoss()\n",
    "\n",
    "# Train\n",
    "model = train(model, device, epochs, optimizer, loss_function, subtrainloader, validloader, 0)\n",
    "# Test\n",
    "test(model[0], device, testloader, loss_function)"
   ]
  },
  {
   "cell_type": "markdown",
   "metadata": {},
   "source": [
    "H = 180"
   ]
  },
  {
   "cell_type": "code",
   "execution_count": 29,
   "metadata": {},
   "outputs": [
    {
     "name": "stdout",
     "output_type": "stream",
     "text": [
      "Test Loss: 9.1532\n"
     ]
    },
    {
     "data": {
      "text/plain": [
       "9.153216062903729"
      ]
     },
     "execution_count": 29,
     "metadata": {},
     "output_type": "execute_result"
    }
   ],
   "source": [
    "H = 180\n",
    "\n",
    "model = MLP_dropout(D_in, D_out, H).to(device)\n",
    "model = model.float()\n",
    "optimizer = torch.optim.Adam(model.parameters(), lr=1e-3)\n",
    "loss_function = torch.nn.MSELoss()\n",
    "\n",
    "# Train\n",
    "model = train(model, device, epochs, optimizer, loss_function, subtrainloader, validloader, 0)\n",
    "# Test\n",
    "test(model[0], device, testloader, loss_function)"
   ]
  },
  {
   "cell_type": "markdown",
   "metadata": {},
   "source": [
    "H = 360"
   ]
  },
  {
   "cell_type": "code",
   "execution_count": 30,
   "metadata": {},
   "outputs": [
    {
     "name": "stdout",
     "output_type": "stream",
     "text": [
      "Test Loss: 9.6403\n"
     ]
    },
    {
     "data": {
      "text/plain": [
       "9.64026041819402"
      ]
     },
     "execution_count": 30,
     "metadata": {},
     "output_type": "execute_result"
    }
   ],
   "source": [
    "H = 360\n",
    "\n",
    "model = MLP_dropout(D_in, D_out, H).to(device)\n",
    "model = model.float()\n",
    "optimizer = torch.optim.Adam(model.parameters(), lr=1e-3)\n",
    "loss_function = torch.nn.MSELoss()\n",
    "\n",
    "# Train\n",
    "model = train(model, device, epochs, optimizer, loss_function, subtrainloader, validloader, 0)\n",
    "# Test\n",
    "test(model[0], device, testloader, loss_function)"
   ]
  },
  {
   "cell_type": "markdown",
   "metadata": {},
   "source": [
    "### Q6 Conclusion\n",
    "表現優劣排名為: 20 > 45 > 180 > 360。推測在有Dropout的情形下不宜太多hidden layer。"
   ]
  },
  {
   "cell_type": "markdown",
   "metadata": {},
   "source": [
    "## Q7 L2 + L1 Loss \n",
    "我們前面的小題皆是使用SSE，也就是L2 Loss。一個改善模型訓練的方式是使用多種類似的Loss，以線性組合的方式建構Loss Function。請使用Q5中的MLP with Dropout模型 (H = 90)，並以L2 + L1 Loss訓練模型。這個Loss的定義如下:\n",
    "\n",
    "$$\n",
    "loss(\\mathbf{y}, \\hat{\\mathbf{y}}) = z \\sum_{i=1}^n (y_i - \\hat{y}_i)^2 + (1 - z) \\sum_{i = 1}^n | y_i - \\hat{y}_i |,\n",
    "$$\n",
    "其中z為實數且$0 <=z <= 1$。\n",
    "\n",
    "使用z = 0.5。並以Adam訓練模型。畫出Training and Validation RMSE，並報告Test RMSE。注意這裡繪圖時應使用RMSE而不是這個特殊的Loss。\n",
    "\n",
    "另外，使用z = 0.0, 0.1, 0.9, 1.0訓練模型(不須提供訓練過程的Loss圖形)，統整各個z值下的Test RMSE並討論。"
   ]
  },
  {
   "cell_type": "code",
   "execution_count": 31,
   "metadata": {},
   "outputs": [],
   "source": [
    "class q7loss(torch.nn.Module):\n",
    "    def __init__(self, z):\n",
    "        super().__init__()\n",
    "        self.z = z\n",
    "    def forward(self, x, y):\n",
    "        return z * torch.mean(torch.pow((x-y),2) + (1-z) * torch.mean(torch.abs(x-y)))"
   ]
  },
  {
   "cell_type": "code",
   "execution_count": 32,
   "metadata": {
    "scrolled": true
   },
   "outputs": [
    {
     "name": "stdout",
     "output_type": "stream",
     "text": [
      "Batch: 1000 Training Loss: 6.5543 Validation Loss: 6.2177\n",
      "Current best validation RMSE: 6.2177 @ 1000\n",
      "Batch: 2000 Training Loss: 6.4031 Validation Loss: 6.1712\n",
      "Current best validation RMSE: 6.1712 @ 2000\n",
      "Batch: 3000 Training Loss: 6.3473 Validation Loss: 6.2886\n",
      "Current best validation RMSE: 6.1554 @ 2500\n",
      "Batch: 4000 Training Loss: 6.2966 Validation Loss: 6.1582\n",
      "Current best validation RMSE: 6.1293 @ 3700\n",
      "Batch: 5000 Training Loss: 6.2458 Validation Loss: 6.1434\n",
      "Current best validation RMSE: 6.1293 @ 3700\n",
      "Batch: 6000 Training Loss: 6.2292 Validation Loss: 6.1508\n",
      "Current best validation RMSE: 6.1293 @ 3700\n",
      "Batch: 7000 Training Loss: 6.1941 Validation Loss: 6.1729\n",
      "Current best validation RMSE: 6.1293 @ 3700\n",
      "Batch: 8000 Training Loss: 6.1851 Validation Loss: 6.2534\n",
      "Current best validation RMSE: 6.1293 @ 3700\n",
      "==================== Training Finished ====================\n",
      "Test Loss: 6.4496\n"
     ]
    },
    {
     "data": {
      "text/plain": [
       "6.449558311857376"
      ]
     },
     "execution_count": 32,
     "metadata": {},
     "output_type": "execute_result"
    }
   ],
   "source": [
    "H = 90\n",
    "z = 0.5\n",
    "\n",
    "model = MLP_dropout(D_in, D_out, H).to(device)\n",
    "model = model.float()\n",
    "optimizer = torch.optim.Adam(model.parameters(), lr=1e-3)\n",
    "loss_function = q7loss(z)\n",
    "\n",
    "# Train\n",
    "model = train(model, device, epochs, optimizer, loss_function, subtrainloader, validloader)\n",
    "# Test\n",
    "test(model[0], device, testloader, loss_function)"
   ]
  },
  {
   "cell_type": "code",
   "execution_count": 33,
   "metadata": {},
   "outputs": [
    {
     "data": {
      "image/png": "[encoded data removed]",
      "text/plain": [
       "<Figure size 432x288 with 1 Axes>"
      ]
     },
     "metadata": {
      "needs_background": "light"
     },
     "output_type": "display_data"
    }
   ],
   "source": [
    "plt.plot(model[3], model[1])\n",
    "plt.plot(model[3], model[2])\n",
    "\n",
    "plt.title('LOSS')\n",
    "plt.xlabel('Batch')\n",
    "plt.ylabel('RMSE')\n",
    "plt.legend(['Train', 'Valid'])\n",
    "plt.show()"
   ]
  },
  {
   "cell_type": "markdown",
   "metadata": {},
   "source": [
    "z = 0.0"
   ]
  },
  {
   "cell_type": "code",
   "execution_count": 34,
   "metadata": {},
   "outputs": [
    {
     "name": "stdout",
     "output_type": "stream",
     "text": [
      "Test Loss: 0.0000\n"
     ]
    },
    {
     "data": {
      "text/plain": [
       "0.0"
      ]
     },
     "execution_count": 34,
     "metadata": {},
     "output_type": "execute_result"
    }
   ],
   "source": [
    "z = 0.0\n",
    "\n",
    "model = MLP_dropout(D_in, D_out, H).to(device)\n",
    "model = model.float()\n",
    "optimizer = torch.optim.Adam(model.parameters(), lr=1e-3)\n",
    "loss_function = q7loss(z)\n",
    "\n",
    "# Train\n",
    "model = train(model, device, epochs, optimizer, loss_function, subtrainloader, validloader, 0)\n",
    "# Test\n",
    "test(model[0], device, testloader, loss_function)"
   ]
  },
  {
   "cell_type": "markdown",
   "metadata": {},
   "source": [
    "z = 0.1"
   ]
  },
  {
   "cell_type": "code",
   "execution_count": 35,
   "metadata": {},
   "outputs": [
    {
     "name": "stdout",
     "output_type": "stream",
     "text": [
      "Test Loss: 2.9200\n"
     ]
    },
    {
     "data": {
      "text/plain": [
       "2.9200031415437055"
      ]
     },
     "execution_count": 35,
     "metadata": {},
     "output_type": "execute_result"
    }
   ],
   "source": [
    "z = 0.1\n",
    "\n",
    "model = MLP_dropout(D_in, D_out, H).to(device)\n",
    "model = model.float()\n",
    "optimizer = torch.optim.Adam(model.parameters(), lr=1e-3)\n",
    "loss_function = q7loss(z)\n",
    "\n",
    "# Train\n",
    "model = train(model, device, epochs, optimizer, loss_function, subtrainloader, validloader, 0)\n",
    "# Test\n",
    "test(model[0], device, testloader, loss_function)"
   ]
  },
  {
   "cell_type": "markdown",
   "metadata": {},
   "source": [
    "z = 0.9"
   ]
  },
  {
   "cell_type": "code",
   "execution_count": 36,
   "metadata": {},
   "outputs": [
    {
     "name": "stdout",
     "output_type": "stream",
     "text": [
      "Test Loss: 8.6319\n"
     ]
    },
    {
     "data": {
      "text/plain": [
       "8.631857044047065"
      ]
     },
     "execution_count": 36,
     "metadata": {},
     "output_type": "execute_result"
    }
   ],
   "source": [
    "z = 0.9\n",
    "\n",
    "model = MLP_dropout(D_in, D_out, H).to(device)\n",
    "model = model.float()\n",
    "optimizer = torch.optim.Adam(model.parameters(), lr=1e-3)\n",
    "loss_function = q7loss(z)\n",
    "\n",
    "# Train\n",
    "model = train(model, device, epochs, optimizer, loss_function, subtrainloader, validloader, 0)\n",
    "# Test\n",
    "test(model[0], device, testloader, loss_function)"
   ]
  },
  {
   "cell_type": "markdown",
   "metadata": {},
   "source": [
    "z = 1.0"
   ]
  },
  {
   "cell_type": "code",
   "execution_count": 37,
   "metadata": {},
   "outputs": [
    {
     "name": "stdout",
     "output_type": "stream",
     "text": [
      "Test Loss: 8.9296\n"
     ]
    },
    {
     "data": {
      "text/plain": [
       "8.929617883749891"
      ]
     },
     "execution_count": 37,
     "metadata": {},
     "output_type": "execute_result"
    }
   ],
   "source": [
    "z = 1.0\n",
    "\n",
    "model = MLP_dropout(D_in, D_out, H).to(device)\n",
    "model = model.float()\n",
    "optimizer = torch.optim.Adam(model.parameters(), lr=1e-3)\n",
    "loss_function = q7loss(z)\n",
    "\n",
    "# Train\n",
    "model = train(model, device, epochs, optimizer, loss_function, subtrainloader, validloader, 0)\n",
    "# Test\n",
    "test(model[0], device, testloader, loss_function)"
   ]
  },
  {
   "cell_type": "markdown",
   "metadata": {},
   "source": [
    "### Q7 Conclusion\n",
    "表現優劣分別為: 0.0 > 0.1 > 0.5 > 0.9 > 1。推測z越小越好。"
   ]
  },
  {
   "cell_type": "markdown",
   "metadata": {},
   "source": [
    "## Q8 L2 + Customerized Loss \n",
    "考慮另一個比較特別的Loss Function\n",
    "\n",
    "$$\n",
    "qloss(\\mathbf{y}, \\hat{\\mathbf{y}}) = \\sum_{i=1}^n \\{ q (y_i - \\hat{y}_i)_+ + (1 - q) (\\hat{y}_i - y_i)_+ \\},\n",
    "$$\n",
    "其中q為參數且$0<=q<=1$，而$(y_i - \\hat{y}_i)_+$是取正值的意思。也就是說如果$(y_i - \\hat{y}_i) > 0$，則$(y_i - \\hat{y}_i)_+ = y_i - \\hat{y}_i$，否則$(y_i - \\hat{y}_i)_+ = 0$。\n",
    "\n",
    "令模型的Loss為$z \\sum_{i=1}^n (y_i - \\hat{y}_i)^2 + (1 - z) \\sum_{i=1}^n \\{ 0.5 (y_i - \\hat{y}_i)_+ + 0.5 (\\hat{y}_i - y_i)_+ \\} $。請使用Q5中的MLP with Dropout模型(H = 90)，令z = 0。並以Adam訓練模型。畫出Training and Validation RMSE，並報告Test RMSE。注意這裡繪圖時應使用RMSE而不是這個特殊的Loss。\n",
    "\n",
    "另外，使用z = 0.1, 0.5, 0.9, 1.0訓練模型(不須提供訓練過程的Loss圖形)，統整各個z值下的Test RMSE並討論。"
   ]
  },
  {
   "cell_type": "code",
   "execution_count": 38,
   "metadata": {},
   "outputs": [],
   "source": [
    "class q8loss(torch.nn.Module):\n",
    "    def __init__(self, z):\n",
    "        super().__init__()\n",
    "        self.z = z\n",
    "    def forward(self, x, y):\n",
    "        return z * torch.mean(torch.pow((x-y),2)) + (1-z) * torch.mean(torch.abs(0.5*(x-y)))"
   ]
  },
  {
   "cell_type": "code",
   "execution_count": 39,
   "metadata": {
    "scrolled": true
   },
   "outputs": [
    {
     "name": "stdout",
     "output_type": "stream",
     "text": [
      "Batch: 1000 Training Loss: 1.7617 Validation Loss: 1.6944\n",
      "Current best validation RMSE: 1.6944 @ 1000\n",
      "Batch: 2000 Training Loss: 1.7280 Validation Loss: 1.6807\n",
      "Current best validation RMSE: 1.6807 @ 2000\n",
      "Batch: 3000 Training Loss: 1.7157 Validation Loss: 1.7053\n",
      "Current best validation RMSE: 1.6751 @ 2800\n",
      "Batch: 4000 Training Loss: 1.7061 Validation Loss: 1.6719\n",
      "Current best validation RMSE: 1.6719 @ 3600\n",
      "Batch: 5000 Training Loss: 1.6968 Validation Loss: 1.6698\n",
      "Current best validation RMSE: 1.6693 @ 4300\n",
      "Batch: 6000 Training Loss: 1.6938 Validation Loss: 1.6693\n",
      "Current best validation RMSE: 1.6684 @ 5400\n",
      "Batch: 7000 Training Loss: 1.6880 Validation Loss: 1.6689\n",
      "Current best validation RMSE: 1.6678 @ 6200\n",
      "Batch: 8000 Training Loss: 1.6864 Validation Loss: 1.7014\n",
      "Current best validation RMSE: 1.6675 @ 7300\n",
      "Batch: 9000 Training Loss: 1.6824 Validation Loss: 1.6700\n",
      "Current best validation RMSE: 1.6675 @ 7300\n",
      "Batch: 10000 Training Loss: 1.6791 Validation Loss: 1.6701\n",
      "Current best validation RMSE: 1.6675 @ 7300\n",
      "Batch: 11000 Training Loss: 1.6772 Validation Loss: 1.6685\n",
      "Current best validation RMSE: 1.6675 @ 7300\n",
      "Batch: 12000 Training Loss: 1.6747 Validation Loss: 1.6683\n",
      "Current best validation RMSE: 1.6675 @ 7300\n",
      "Batch: 13000 Training Loss: 1.6734 Validation Loss: 1.6962\n",
      "Current best validation RMSE: 1.6670 @ 12300\n",
      "Batch: 14000 Training Loss: 1.6704 Validation Loss: 1.6714\n",
      "Current best validation RMSE: 1.6670 @ 12300\n",
      "Batch: 15000 Training Loss: 1.6689 Validation Loss: 1.6703\n",
      "Current best validation RMSE: 1.6670 @ 12300\n",
      "Batch: 16000 Training Loss: 1.6670 Validation Loss: 1.6713\n",
      "Current best validation RMSE: 1.6670 @ 12300\n",
      "Batch: 17000 Training Loss: 1.6659 Validation Loss: 1.6696\n",
      "Current best validation RMSE: 1.6670 @ 12300\n",
      "==================== Training Finished ====================\n",
      "Test Loss: 1.7030\n"
     ]
    },
    {
     "data": {
      "text/plain": [
       "1.7030496910421464"
      ]
     },
     "execution_count": 39,
     "metadata": {},
     "output_type": "execute_result"
    }
   ],
   "source": [
    "z = 0.0\n",
    "\n",
    "model = MLP_dropout(D_in, D_out, H).to(device)\n",
    "model = model.float()\n",
    "optimizer = torch.optim.Adam(model.parameters(), lr=1e-3)\n",
    "loss_function = q8loss(z)\n",
    "\n",
    "# Train\n",
    "model = train(model, device, epochs, optimizer, loss_function, subtrainloader, validloader)\n",
    "# Test\n",
    "test(model[0], device, testloader, loss_function)"
   ]
  },
  {
   "cell_type": "code",
   "execution_count": 40,
   "metadata": {},
   "outputs": [
    {
     "data": {
      "image/png": "[encoded data removed]",
      "text/plain": [
       "<Figure size 432x288 with 1 Axes>"
      ]
     },
     "metadata": {
      "needs_background": "light"
     },
     "output_type": "display_data"
    }
   ],
   "source": [
    "plt.plot(model[3], model[1])\n",
    "plt.plot(model[3], model[2])\n",
    "\n",
    "plt.title('LOSS')\n",
    "plt.xlabel('Batch')\n",
    "plt.ylabel('RMSE')\n",
    "plt.legend(['Train', 'Valid'])\n",
    "plt.show()"
   ]
  },
  {
   "cell_type": "markdown",
   "metadata": {},
   "source": [
    "z = 0.1"
   ]
  },
  {
   "cell_type": "code",
   "execution_count": 41,
   "metadata": {},
   "outputs": [
    {
     "name": "stdout",
     "output_type": "stream",
     "text": [
      "Test Loss: 2.9246\n"
     ]
    },
    {
     "data": {
      "text/plain": [
       "2.9245509671378165"
      ]
     },
     "execution_count": 41,
     "metadata": {},
     "output_type": "execute_result"
    }
   ],
   "source": [
    "z = 0.1\n",
    "\n",
    "model = MLP_dropout(D_in, D_out, H).to(device)\n",
    "model = model.float()\n",
    "optimizer = torch.optim.Adam(model.parameters(), lr=1e-3)\n",
    "loss_function = q7loss(z)\n",
    "\n",
    "# Train\n",
    "model = train(model, device, epochs, optimizer, loss_function, subtrainloader, validloader, 0)\n",
    "# Test\n",
    "test(model[0], device, testloader, loss_function)"
   ]
  },
  {
   "cell_type": "markdown",
   "metadata": {},
   "source": [
    "z = 0.5"
   ]
  },
  {
   "cell_type": "code",
   "execution_count": 42,
   "metadata": {},
   "outputs": [
    {
     "name": "stdout",
     "output_type": "stream",
     "text": [
      "Test Loss: 6.4382\n"
     ]
    },
    {
     "data": {
      "text/plain": [
       "6.438191138182021"
      ]
     },
     "execution_count": 42,
     "metadata": {},
     "output_type": "execute_result"
    }
   ],
   "source": [
    "z = 0.5\n",
    "\n",
    "model = MLP_dropout(D_in, D_out, H).to(device)\n",
    "model = model.float()\n",
    "optimizer = torch.optim.Adam(model.parameters(), lr=1e-3)\n",
    "loss_function = q7loss(z)\n",
    "\n",
    "# Train\n",
    "model = train(model, device, epochs, optimizer, loss_function, subtrainloader, validloader, 0)\n",
    "# Test\n",
    "test(model[0], device, testloader, loss_function)"
   ]
  },
  {
   "cell_type": "markdown",
   "metadata": {},
   "source": [
    "z = 0.9"
   ]
  },
  {
   "cell_type": "code",
   "execution_count": 43,
   "metadata": {},
   "outputs": [
    {
     "name": "stdout",
     "output_type": "stream",
     "text": [
      "Test Loss: 8.5347\n"
     ]
    },
    {
     "data": {
      "text/plain": [
       "8.534735918967545"
      ]
     },
     "execution_count": 43,
     "metadata": {},
     "output_type": "execute_result"
    }
   ],
   "source": [
    "z = 0.9\n",
    "\n",
    "model = MLP_dropout(D_in, D_out, H).to(device)\n",
    "model = model.float()\n",
    "optimizer = torch.optim.Adam(model.parameters(), lr=1e-3)\n",
    "loss_function = q7loss(z)\n",
    "\n",
    "# Train\n",
    "model = train(model, device, epochs, optimizer, loss_function, subtrainloader, validloader, 0)\n",
    "# Test\n",
    "test(model[0], device, testloader, loss_function)"
   ]
  },
  {
   "cell_type": "markdown",
   "metadata": {},
   "source": [
    "z = 1.0"
   ]
  },
  {
   "cell_type": "code",
   "execution_count": 44,
   "metadata": {},
   "outputs": [
    {
     "name": "stdout",
     "output_type": "stream",
     "text": [
      "Test Loss: 8.9423\n"
     ]
    },
    {
     "data": {
      "text/plain": [
       "8.942301773056709"
      ]
     },
     "execution_count": 44,
     "metadata": {},
     "output_type": "execute_result"
    }
   ],
   "source": [
    "z = 1.0\n",
    "\n",
    "model = MLP_dropout(D_in, D_out, H).to(device)\n",
    "model = model.float()\n",
    "optimizer = torch.optim.Adam(model.parameters(), lr=1e-3)\n",
    "loss_function = q7loss(z)\n",
    "\n",
    "# Train\n",
    "model = train(model, device, epochs, optimizer, loss_function, subtrainloader, validloader, 0)\n",
    "# Test\n",
    "test(model[0], device, testloader, loss_function)"
   ]
  },
  {
   "cell_type": "markdown",
   "metadata": {},
   "source": [
    "### Q8 Conclusion\n",
    "表現優劣分別為: 0.0 > 0.1 > 0.5 > 0.9 > 1。推測z越小越好。"
   ]
  }
 ],
 "metadata": {
  "kernelspec": {
   "display_name": "Python 3",
   "language": "python",
   "name": "python3"
  },
  "language_info": {
   "codemirror_mode": {
    "name": "ipython",
    "version": 3
   },
   "file_extension": ".py",
   "mimetype": "text/x-python",
   "name": "python",
   "nbconvert_exporter": "python",
   "pygments_lexer": "ipython3",
   "version": "3.8.12"
  }
 },
 "nbformat": 4,
 "nbformat_minor": 4
}

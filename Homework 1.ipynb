{
 "cells": [
  {
   "cell_type": "markdown",
   "metadata": {},
   "source": [
    "### 第一題[myknn_regressor]"
   ]
  },
  {
   "cell_type": "markdown",
   "metadata": {},
   "source": [
    "import 本次功課會用到的套件"
   ]
  },
  {
   "cell_type": "code",
   "execution_count": 1,
   "metadata": {},
   "outputs": [],
   "source": [
    "import pickle\n",
    "from sklearn import preprocessing\n",
    "import numpy as np\n",
    "from sklearn.neighbors import KNeighborsRegressor\n",
    "import matplotlib.pyplot as plt"
   ]
  },
  {
   "cell_type": "markdown",
   "metadata": {},
   "source": [
    "寫**導入資料**&**RMSE**&**MAE**的function"
   ]
  },
  {
   "cell_type": "code",
   "execution_count": 2,
   "metadata": {},
   "outputs": [],
   "source": [
    "def rmse(predictions, targets):\n",
    "    \n",
    "    return np.sqrt(((predictions - targets) ** 2).mean())\n",
    "\n",
    "def mae(predictions, targets):\n",
    "\n",
    "    return np.sum(np.abs(predictions-targets)) / targets.size\n",
    "\n",
    "def load_data(doscaling):\n",
    "    \n",
    "    with open('msd_data1.pickle', 'rb') as fh1:\n",
    "        msd_data = pickle.load(fh1)\n",
    "\n",
    "    if (doscaling == 1):\n",
    "        xscaler = preprocessing.StandardScaler().fit(msd_data['X_train'])\n",
    "        #standardize feature values\n",
    "        X_train = xscaler.transform(msd_data['X_train'])\n",
    "        X_test = xscaler.transform(msd_data['X_test'])\n",
    "    else:\n",
    "        X_train = msd_data['X_train']\n",
    "        X_test = msd_data['X_test']\n",
    "\n",
    "    Y_train = msd_data['Y_train']\n",
    "    Y_test = msd_data['Y_test']\n",
    "    \n",
    "    return X_train, X_test, Y_train, Y_test"
   ]
  },
  {
   "cell_type": "markdown",
   "metadata": {},
   "source": [
    "**Q1.1** \n",
    "接著運用作業提供的skeleton來完成myknn_regressor"
   ]
  },
  {
   "cell_type": "code",
   "execution_count": 3,
   "metadata": {},
   "outputs": [],
   "source": [
    "class myknn_regressor():\n",
    "    def __init__(self, n_neighbors = 10, mean_type = \"equal_weight\"):\n",
    "        self.n = n_neighbors\n",
    "        self.t = mean_type\n",
    "        # 題目要求\n",
    "        if n_neighbors < 10 and mean_type == \"remove_outliers\":\n",
    "            self.t = \"equal_weight\"\n",
    "\n",
    "    def fit(self, x_train, y_train):\n",
    "        self.x = x_train\n",
    "        self.y = y_train\n",
    "\n",
    "    def predict(self, x_test):\n",
    "        prediction = []\n",
    "        for i in range(len(x_test)):\n",
    "            data = []\n",
    "            label = []\n",
    "            ans = 0\n",
    "            # 同時記錄距離與其順序\n",
    "            for j in range(len(self.x)):\n",
    "                data.append([np.linalg.norm(x_test[i] - self.x[j]), j])\n",
    "            data.sort()\n",
    "            # 根據提供的n值擷取list\n",
    "            data = data[0:self.n]\n",
    "            for d, j in data:\n",
    "                label.append(self.y[j])\n",
    "\n",
    "            if self.t == \"equal_weight\":\n",
    "                for l in label:\n",
    "                    ans += l\n",
    "                prediction.append(ans/self.n)\n",
    "            else:\n",
    "                ok_label = []\n",
    "                q1 = np.percentile(label, 25)\n",
    "                q3 = np.percentile(label, 75)\n",
    "                iqr = q3 - q1\n",
    "                for l in label:\n",
    "                    if l >= q1-1.5*iqr and l <= q3+1.5*iqr:\n",
    "                        ok_label.append(l)\n",
    "                for l in ok_label:\n",
    "                    ans += l\n",
    "                prediction.append(ans/(len(ok_label)))\n",
    "                \n",
    "        return prediction"
   ]
  },
  {
   "cell_type": "markdown",
   "metadata": {},
   "source": [
    "**Q1.2**\n",
    "根據要求(Make predictions using $k=20$ and \"equal_weight\" $f$.)\n",
    "\n",
    "得到下列結果:"
   ]
  },
  {
   "cell_type": "code",
   "execution_count": 4,
   "metadata": {},
   "outputs": [
    {
     "name": "stdout",
     "output_type": "stream",
     "text": [
      "RMSE:  10.25126451549596\n",
      "Prediction:  [1993.35, 1993.8, 2000.65, 1991.5, 1992.8, 1998.5, 1988.1, 1991.65, 2002.25, 2003.0, 2000.5, 1998.65, 1995.55, 1997.2, 1995.05, 1997.4, 1992.15, 2000.45, 2003.2, 1995.75]\n"
     ]
    }
   ],
   "source": [
    "[X_train, X_test, Y_train, Y_test] = load_data(1)\n",
    "myknn = myknn_regressor(20, \"equal_weight\")\n",
    "myknn.fit(X_train, Y_train)\n",
    "ypred = myknn.predict(X_test)\n",
    "print(\"RMSE: \", rmse(ypred, Y_test))\n",
    "print(\"Prediction: \", ypred[0:20])"
   ]
  },
  {
   "cell_type": "markdown",
   "metadata": {},
   "source": [
    "**Q1.3**\n",
    "根據要求(Make predictions using $k=20$ and \"remove_outier\" $f$.)\n",
    "\n",
    "得到下列結果:"
   ]
  },
  {
   "cell_type": "code",
   "execution_count": 5,
   "metadata": {},
   "outputs": [
    {
     "name": "stdout",
     "output_type": "stream",
     "text": [
      "RMSE:  10.212572466080376\n",
      "Prediction:  [1993.35, 1993.8, 2000.65, 1992.7368421052631, 1992.8, 2000.0, 1988.1, 1991.65, 2002.25, 2003.9473684210527, 2000.5, 2000.9444444444443, 1995.55, 1997.2, 1998.611111111111, 1997.4, 1992.15, 2003.8333333333333, 2003.2, 1995.75]\n"
     ]
    }
   ],
   "source": [
    "[X_train, X_test, Y_train, Y_test] = load_data(1)\n",
    "myknn = myknn_regressor(20, \"remove_outliers\")\n",
    "myknn.fit(X_train, Y_train)\n",
    "ypred = myknn.predict(X_test)\n",
    "print(\"RMSE: \", rmse(ypred, Y_test))\n",
    "print(\"Prediction: \", ypred[0:20])"
   ]
  },
  {
   "cell_type": "markdown",
   "metadata": {},
   "source": [
    "### 第二題 [Tuning the Hyper-parameter]"
   ]
  },
  {
   "cell_type": "code",
   "execution_count": 6,
   "metadata": {},
   "outputs": [],
   "source": [
    "neighbors = [1, 2, 3, 4, 5, 10, 15, 20, 25, 30, 35, 40, 45, 50, 55, 60, 80, 100, 120, 140, 160, 180, 200]"
   ]
  },
  {
   "cell_type": "markdown",
   "metadata": {},
   "source": [
    "**First Case**: all feature values are standardized to have unit variances and zero means"
   ]
  },
  {
   "cell_type": "code",
   "execution_count": 7,
   "metadata": {},
   "outputs": [],
   "source": [
    "[X_train, X_test, Y_train, Y_test] = load_data(1)\n",
    "first_rmse = np.empty(len(neighbors))\n",
    "\n",
    "# Loop over different values of k\n",
    "for i, k in enumerate(neighbors):\n",
    "    knn = KNeighborsRegressor(n_neighbors=k)\n",
    "    knn.fit(X_train, Y_train)\n",
    "    ypred = knn.predict(X_test)\n",
    "    first_rmse[i] = rmse(ypred, Y_test)"
   ]
  },
  {
   "cell_type": "code",
   "execution_count": 8,
   "metadata": {},
   "outputs": [
    {
     "data": {
      "image/png": "[encoded data removed]",
      "text/plain": [
       "<Figure size 432x288 with 1 Axes>"
      ]
     },
     "metadata": {
      "needs_background": "light"
     },
     "output_type": "display_data"
    }
   ],
   "source": [
    "# Generate plot\n",
    "plt.title('k-NN: Varying Number of Neighbors')\n",
    "plt.plot(neighbors, first_rmse, label = 'Case 1')\n",
    "plt.legend()\n",
    "plt.xlabel('Number of Neighbors')\n",
    "plt.ylabel('RMSE')\n",
    "plt.show()"
   ]
  },
  {
   "cell_type": "markdown",
   "metadata": {},
   "source": [
    "**Second Case**: do not apply feature scaling"
   ]
  },
  {
   "cell_type": "code",
   "execution_count": 9,
   "metadata": {},
   "outputs": [],
   "source": [
    "[X_train, X_test, Y_train, Y_test] = load_data(0)\n",
    "second_rmse = np.empty(len(neighbors))\n",
    "\n",
    "# Loop over different values of k\n",
    "for i, k in enumerate(neighbors):\n",
    "    knn = KNeighborsRegressor(n_neighbors=k)\n",
    "    knn.fit(X_train, Y_train)\n",
    "    ypred = knn.predict(X_test)\n",
    "    second_rmse[i] = rmse(ypred, Y_test)"
   ]
  },
  {
   "cell_type": "code",
   "execution_count": 10,
   "metadata": {},
   "outputs": [
    {
     "data": {
      "image/png": "[encoded data removed]",
      "text/plain": [
       "<Figure size 432x288 with 1 Axes>"
      ]
     },
     "metadata": {
      "needs_background": "light"
     },
     "output_type": "display_data"
    }
   ],
   "source": [
    "# Generate plot\n",
    "plt.title('k-NN: Varying Number of Neighbors')\n",
    "plt.plot(neighbors, second_rmse, label = 'Case 2')\n",
    "plt.legend()\n",
    "plt.xlabel('Number of Neighbors')\n",
    "plt.ylabel('RMSE')\n",
    "plt.show()"
   ]
  },
  {
   "cell_type": "markdown",
   "metadata": {},
   "source": [
    "**Third Case**: standardized features and adopted myknn_regressor with \"remove_outlier\"  𝑓  to make predictions."
   ]
  },
  {
   "cell_type": "code",
   "execution_count": 11,
   "metadata": {},
   "outputs": [],
   "source": [
    "[X_train, X_test, Y_train, Y_test] = load_data(0)\n",
    "third_rmse = np.empty(len(neighbors))\n",
    "\n",
    "# Loop over different values of k\n",
    "for i, k in enumerate(neighbors):\n",
    "    myknn = myknn_regressor(k, \"remove_outlier\")\n",
    "    myknn.fit(X_train, Y_train)\n",
    "    ypred = myknn.predict(X_test)\n",
    "    third_rmse[i] = rmse(ypred, Y_test)"
   ]
  },
  {
   "cell_type": "code",
   "execution_count": 12,
   "metadata": {},
   "outputs": [
    {
     "data": {
      "image/png": "[encoded data removed]",
      "text/plain": [
       "<Figure size 432x288 with 1 Axes>"
      ]
     },
     "metadata": {
      "needs_background": "light"
     },
     "output_type": "display_data"
    }
   ],
   "source": [
    "# Generate plot\n",
    "plt.title('k-NN: Varying Number of Neighbors')\n",
    "plt.plot(neighbors, third_rmse, label = 'Case 3')\n",
    "plt.legend()\n",
    "plt.xlabel('Number of Neighbors')\n",
    "plt.ylabel('RMSE')\n",
    "plt.show()"
   ]
  },
  {
   "cell_type": "code",
   "execution_count": 13,
   "metadata": {},
   "outputs": [
    {
     "data": {
      "image/png": "[encoded data removed]",
      "text/plain": [
       "<Figure size 432x288 with 1 Axes>"
      ]
     },
     "metadata": {
      "needs_background": "light"
     },
     "output_type": "display_data"
    }
   ],
   "source": [
    "# Generate plot\n",
    "plt.title('k-NN: Varying Number of Neighbors')\n",
    "plt.plot(neighbors, first_rmse, label = 'Case 1')\n",
    "plt.plot(neighbors, second_rmse, label = 'Case 2')\n",
    "plt.plot(neighbors, third_rmse, label = 'Case 3')\n",
    "plt.legend()\n",
    "plt.xlabel('Number of Neighbors')\n",
    "plt.ylabel('RMSE')\n",
    "plt.show()"
   ]
  },
  {
   "cell_type": "markdown",
   "metadata": {},
   "source": [
    "從上圖發現對於此資料集\n",
    "\n",
    "以Case1與Case2做比較，有標準化過後的表現比較好(Case 1)\n",
    "\n",
    "而整體而言表現最好的是myknn，雖然他運行速度最慢"
   ]
  },
  {
   "cell_type": "markdown",
   "metadata": {},
   "source": [
    "### 第三題 [Lasso Regression]"
   ]
  },
  {
   "cell_type": "markdown",
   "metadata": {},
   "source": [
    "**Q3.1**"
   ]
  },
  {
   "cell_type": "markdown",
   "metadata": {},
   "source": [
    "$$\n",
    "L = \\frac{1}{2n} \\sum_{i=1}^n (y_i - \\mathbf{w}^T \\mathbf{x}_i - w_0)^2 + \\lambda [\\sum_{j=1}^{M} |w_j|]\n",
    "$$\n",
    "\n",
    "$$\n",
    "W_j=\\frac{\\sum_{i=1}^{n}(y_i-\\mathbf{w_{-j}}^Tx_{ij}-w_0)(x_{ij})-\\lambda nsgn(w_j)}{\\sum_{i=1}^{n}x_{ij^2}}\n",
    "$$\n",
    "\n",
    "$$\n",
    "Thresholding = \\frac{\\lambda n}{\\sum_{i=1}^{n}x_{ij^2}}\n",
    "$$"
   ]
  },
  {
   "cell_type": "markdown",
   "metadata": {},
   "source": [
    "**Q3.2**"
   ]
  },
  {
   "cell_type": "code",
   "execution_count": 5,
   "metadata": {},
   "outputs": [],
   "source": [
    "class mylasso():\n",
    "    def __init__(self, lamcoef = 0.1, max_iter=1000, tol=1e-6, const_regu = False):\n",
    "        \n",
    "        self.lam = lamcoef\n",
    "        self.iter = max_iter\n",
    "        self.tol = tol\n",
    "        self.const_regu = const_regu\n",
    "\n",
    "    def fit(self, x_train, y_train, winit = \"ridge\", keep_traindata = True, verbose = False):\n",
    "        \n",
    "        self.x = x_train\n",
    "        self.y = y_train\n",
    "        self.winit = winit\n",
    "        self.keep = keep_traindata\n",
    "        self.verbose = verbose\n",
    "\n",
    "        # add an intercept column to X\n",
    "        x_with_intercept = np.c_[np.ones((self.x.shape[0],1)), x_train]     \n",
    "        self.x_intercept = x_with_intercept  # 5000 x 91\n",
    "        self.w = np.zeros(self.x.shape[1]+1)  # 91 x 1\n",
    "        self.z = np.sum(self.x_intercept * self.x_intercept, axis = 0)  # 1 x 91\n",
    "\n",
    "    def temp_predict(self, x_with_intercept, weight):\n",
    "        \n",
    "        temp = x_with_intercept @ weight  # 5000 x 1\n",
    "        \n",
    "        return temp\n",
    "    \n",
    "    def w_star(self, x_intercept, j, weight):\n",
    "        \n",
    "        x_j = x_intercept[j] # 91 x 1\n",
    "        w_j = weight[j]  # coef. of j\n",
    "        x_without_j = np.delete(x_intercept, j, 1)  # 5000 x 90\n",
    "        w_without_j = np.delete(weight, j)\n",
    "        pred = self.temp_predict(x_without_j, w_without_j)\n",
    "        residual = self.y - pred  # 5000 x 1\n",
    "        w_star_j = np.sum(x_intercept[:,j]*residual)\n",
    "        \n",
    "        return w_star_j\n",
    "\n",
    "    \n",
    "    def coordinate_descent(self, y, x_intercept):\n",
    "        \n",
    "        w = self.w\n",
    "        z = self.z\n",
    "        for i in range(self.iter):\n",
    "            # loop through each features\n",
    "            for j in range(len(w)):\n",
    "                w_star_j = self.w_star(x_intercept, j, w)\n",
    "                if j == 0:\n",
    "                    w[j] = w_star_j / z[j]\n",
    "                elif w_star_j - self.lam*len(y) > 0:\n",
    "                    w[j] = (w_star_j - self.lam*len(y))/z[j]\n",
    "                elif w_star_j + self.lam * len(y) < 0:\n",
    "                    w[j] = (w_star_j  + self.lam*len(y))/z[j]\n",
    "                else:\n",
    "                    w[j] = 0\n",
    "                    \n",
    "        return w   \n",
    "        \n",
    "    def predict(self, x_test):\n",
    "        \n",
    "        w_final = self.coordinate_descent(self.y, self.x_intercept)\n",
    "        x_with_intercept = np.c_[np.ones((x_test.shape[0],1)), x_test]\n",
    "        ypred = x_with_intercept @ w_final\n",
    "        self.ypred = ypred\n",
    "        self.w_final = w_final\n",
    "        \n",
    "        return ypred, w_final\n",
    "    \n",
    "    def loss(self, ytrue):\n",
    "        \n",
    "        sum = 0\n",
    "        for w in self.w_final:\n",
    "            sum += w\n",
    "        penalty = self.lam*abs(sum)\n",
    "        loss = (1/2)*(np.linalg.norm(ytrue-self.ypred))**2 + penalty\n",
    "        \n",
    "        return loss"
   ]
  },
  {
   "cell_type": "markdown",
   "metadata": {},
   "source": [
    "**Q3.3**"
   ]
  },
  {
   "cell_type": "code",
   "execution_count": 6,
   "metadata": {},
   "outputs": [
    {
     "name": "stdout",
     "output_type": "stream",
     "text": [
      "Training loss:  233046.5094726328\n",
      "RMSE in training data:  9.650962631545008\n",
      "MAE in training data:  6.946521224938505\n",
      "Intercept:  1951.992159187264\n",
      "Weights:  [ 0.81804089 -0.05420823 -0.03920671  0.01922758 -0.02927641 -0.27628752\n",
      "  0.00116389 -0.10663504 -0.05185597 -0.01486019 -0.07496416 -0.04699719\n",
      "  0.03404691  0.00000755 -0.00076566  0.00069989  0.00044112  0.00162554\n",
      "  0.00204262  0.00223663  0.0027119   0.00258369  0.00954763  0.00153349\n",
      " -0.00305082  0.00026767  0.00203723  0.00062351  0.00179824  0.0000377\n",
      " -0.00334064 -0.00586339 -0.00269277 -0.00349176 -0.00672242 -0.00279911\n",
      " -0.00011479  0.00060981  0.00188849 -0.00072081 -0.00177496 -0.00233852\n",
      " -0.00116383  0.00437661 -0.00734514  0.00304442  0.00017152 -0.00160565\n",
      " -0.00044359  0.0018104   0.00454541  0.00198471  0.00229605  0.00284019\n",
      " -0.00034934  0.00041044 -0.00211714  0.00198803 -0.00160134  0.00042149\n",
      " -0.0045469   0.00395036 -0.0075227   0.00077033 -0.00248528 -0.00043549\n",
      "  0.00203861 -0.00149359 -0.00173504 -0.0043556  -0.00246527  0.00079507\n",
      "  0.00196704  0.00512205  0.00203466  0.01212671 -0.00079793 -0.00520581\n",
      " -0.00116547  0.00025577  0.00529135  0.00187146  0.00221083  0.00283055\n",
      "  0.0296312   0.00066037  0.00021617 -0.04492551 -0.00050518  0.        ]\n",
      "Number of non-zero weights:  1\n"
     ]
    }
   ],
   "source": [
    "[X_train, X_test, Y_train, Y_test] = load_data(0)\n",
    "mlo = mylasso(lamcoef = 0.1)\n",
    "mlo.fit(X_train, Y_train)\n",
    "ypred = mlo.predict(X_train)[0]\n",
    "weight = mlo.predict(X_train)[1]\n",
    "print(\"Training loss: \", mlo.loss(Y_train))\n",
    "print(\"RMSE in training data: \", rmse(ypred, Y_train))\n",
    "print(\"MAE in training data: \", mae(ypred, Y_train))\n",
    "print(\"Intercept: \", weight[0])\n",
    "np.set_printoptions(suppress=True)\n",
    "print(\"Weights: \", weight[1:])\n",
    "count = 0\n",
    "for w in weight:\n",
    "    if w == 0:\n",
    "        count += 1\n",
    "print(\"Number of non-zero weights: \", count)"
   ]
  },
  {
   "cell_type": "markdown",
   "metadata": {},
   "source": [
    "**Q3.4**"
   ]
  },
  {
   "cell_type": "code",
   "execution_count": 7,
   "metadata": {},
   "outputs": [
    {
     "name": "stdout",
     "output_type": "stream",
     "text": [
      "Prediction:  [1992.20191219 1998.45247086 2003.73112654 1990.32942093 1993.20816988]\n",
      "Test RMSE:  9.64389761855533\n",
      "Test MAE:  6.944525726688372\n"
     ]
    }
   ],
   "source": [
    "[X_train, X_test, Y_train, Y_test] = load_data(0)\n",
    "mlo = mylasso(lamcoef = 0.1)\n",
    "mlo.fit(X_train, Y_train)\n",
    "ypred = mlo.predict(X_test)[0]\n",
    "print(\"Prediction: \", ypred[0:5])\n",
    "print(\"Test RMSE: \", rmse(ypred, Y_test))\n",
    "print(\"Test MAE: \", mae(ypred, Y_test))"
   ]
  },
  {
   "cell_type": "markdown",
   "metadata": {},
   "source": [
    "**Q3.5**"
   ]
  },
  {
   "cell_type": "code",
   "execution_count": 20,
   "metadata": {},
   "outputs": [],
   "source": [
    "[X_train, X_test, Y_train, Y_test] = load_data(0)\n",
    "lam = [0.0001, 0.0005, 0.001, 0.005, 0.01, 0.05, 0.1, 0.5, 1, 2]\n",
    "training_loss = []\n",
    "counts = []\n",
    "weight_size = []\n",
    "train_rmse = []\n",
    "test_rmse = []\n",
    "\n",
    "for l in lam:\n",
    "    mlo = mylasso(lamcoef = l)\n",
    "    mlo.fit(X_train, Y_train)\n",
    "    \n",
    "    ypred_train = mlo.predict(X_train)[0]\n",
    "    weight_train = mlo.predict(X_train)[1]\n",
    "    training_loss.append(mlo.loss(Y_train))\n",
    "    ypred_test = mlo.predict(X_test)[0]\n",
    "    weight_test = mlo.predict(X_test)[1]\n",
    "    \n",
    "    count = 0\n",
    "    temp = 0\n",
    "    for w in weight_train:\n",
    "        count += w\n",
    "    counts.append(count)\n",
    "    for w in weight_train:\n",
    "        temp += w\n",
    "    weight_size.append(temp/len(weight_train))\n",
    "    train_rmse.append(rmse(ypred_train, Y_train))\n",
    "    test_rmse.append(rmse(ypred_test, Y_test))"
   ]
  },
  {
   "cell_type": "markdown",
   "metadata": {},
   "source": [
    "此部分合理，因為懲罰越多"
   ]
  },
  {
   "cell_type": "code",
   "execution_count": 21,
   "metadata": {},
   "outputs": [
    {
     "data": {
      "image/png": "[encoded data removed]",
      "text/plain": [
       "<Figure size 432x288 with 1 Axes>"
      ]
     },
     "metadata": {
      "needs_background": "light"
     },
     "output_type": "display_data"
    }
   ],
   "source": [
    "plt.title('Training Loss')\n",
    "plt.plot(lam, training_loss, label = 'Training Loss')\n",
    "plt.legend()\n",
    "plt.xscale('log')\n",
    "plt.xlabel('Log($\\\\lambda$)')\n",
    "plt.ylabel('loss')\n",
    "plt.show()"
   ]
  },
  {
   "cell_type": "markdown",
   "metadata": {},
   "source": [
    "從圖表分析中發現理應lambda越大所造成的懲罰越重，然而我的non-zero weight和average weight size卻成反向的樣子，這點應該是我function某部分出錯"
   ]
  },
  {
   "cell_type": "code",
   "execution_count": 22,
   "metadata": {},
   "outputs": [
    {
     "data": {
      "image/png": "[encoded data removed]",
      "text/plain": [
       "<Figure size 432x288 with 1 Axes>"
      ]
     },
     "metadata": {
      "needs_background": "light"
     },
     "output_type": "display_data"
    }
   ],
   "source": [
    "plt.title('Non-zero weight')\n",
    "plt.plot(lam, counts, label = 'Non-zero weight')\n",
    "plt.legend()\n",
    "plt.xscale('log')\n",
    "plt.xlabel('Log($\\\\lambda$)')\n",
    "plt.ylabel('count')\n",
    "plt.show()"
   ]
  },
  {
   "cell_type": "code",
   "execution_count": 23,
   "metadata": {},
   "outputs": [
    {
     "data": {
      "image/png": "[encoded data removed]",
      "text/plain": [
       "<Figure size 432x288 with 1 Axes>"
      ]
     },
     "metadata": {
      "needs_background": "light"
     },
     "output_type": "display_data"
    }
   ],
   "source": [
    "plt.title('Average weight size')\n",
    "plt.plot(lam, weight_size, label = 'Average weight size')\n",
    "plt.legend()\n",
    "plt.xscale('log')\n",
    "plt.xlabel('Log($\\\\lambda$)')\n",
    "plt.ylabel('size')\n",
    "plt.show()"
   ]
  },
  {
   "cell_type": "markdown",
   "metadata": {},
   "source": [
    "test的rmse有比較低的走勢"
   ]
  },
  {
   "cell_type": "code",
   "execution_count": 24,
   "metadata": {},
   "outputs": [
    {
     "data": {
      "image/png": "[encoded data removed]",
      "text/plain": [
       "<Figure size 432x288 with 1 Axes>"
      ]
     },
     "metadata": {
      "needs_background": "light"
     },
     "output_type": "display_data"
    }
   ],
   "source": [
    "plt.title('RMSE')\n",
    "plt.plot(lam, train_rmse, label = 'Train')\n",
    "plt.plot(lam, test_rmse, label = 'Test')\n",
    "plt.legend()\n",
    "plt.xscale('log')\n",
    "plt.xlabel('Log($\\\\lambda$)')\n",
    "plt.ylabel('RMSE')\n",
    "plt.show()"
   ]
  }
 ],
 "metadata": {
  "kernelspec": {
   "display_name": "Python 3",
   "language": "python",
   "name": "python3"
  },
  "language_info": {
   "codemirror_mode": {
    "name": "ipython",
    "version": 3
   },
   "file_extension": ".py",
   "mimetype": "text/x-python",
   "name": "python",
   "nbconvert_exporter": "python",
   "pygments_lexer": "ipython3",
   "version": "3.8.5"
  }
 },
 "nbformat": 4,
 "nbformat_minor": 4
}
